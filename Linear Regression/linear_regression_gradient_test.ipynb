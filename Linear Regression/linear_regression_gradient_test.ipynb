{
 "cells": [
  {
   "cell_type": "code",
   "execution_count": 1,
   "id": "59ac862c",
   "metadata": {},
   "outputs": [],
   "source": [
    "import pandas as pd\n",
    "import numpy as np\n",
    "from linear_regression_gradient import *"
   ]
  },
  {
   "cell_type": "code",
   "execution_count": 2,
   "id": "fe892014",
   "metadata": {},
   "outputs": [],
   "source": [
    "gss = pd.read_csv('../Datasets/gss.csv', low_memory=False) \n",
    "gss_2010 = gss.loc[gss[\"yrint\"] == 2010].dropna(subset=['paeduc', 'maeduc', 'age', 'educ'])\n",
    "X, y = gss_2010[['paeduc', 'maeduc', 'age']], gss_2010['educ']"
   ]
  },
  {
   "cell_type": "code",
   "execution_count": 3,
   "id": "a2c2ccb6",
   "metadata": {},
   "outputs": [
    {
     "name": "stdout",
     "output_type": "stream",
     "text": [
      "Learned bias (β̂₀): 7.3128\n",
      "Learned coefficient (β̂₁): 0.2146\n",
      "Learned coefficient (β̂₁): 0.2573\n",
      "Learned coefficient (β̂₁): 0.0242\n"
     ]
    }
   ],
   "source": [
    "gradient_model = LinearRegressionGradient(learning_rate=0.0005, n_iters=1000000).fit(X.values.reshape(-1,len(X.columns)),np.array(y))\n",
    "\n",
    "print(f\"Learned bias (β̂₀): {gradient_model.intercept:.4f}\")\n",
    "print(f\"Learned coefficient (β̂₁): {gradient_model.coefficients[0]:.4f}\")\n",
    "print(f\"Learned coefficient (β̂₁): {gradient_model.coefficients[1]:.4f}\")\n",
    "print(f\"Learned coefficient (β̂₁): {gradient_model.coefficients[2]:.4f}\")"
   ]
  },
  {
   "cell_type": "code",
   "execution_count": 4,
   "id": "e2ebdb48",
   "metadata": {},
   "outputs": [
    {
     "name": "stdout",
     "output_type": "stream",
     "text": [
      "Predictions:\n",
      "X =  0.0 → ŷ = 7.313\n"
     ]
    }
   ],
   "source": [
    "def predict():\n",
    "    X_test = np.array([[0,0,0]])\n",
    "    y_pred = gradient_model.predict(X_test)\n",
    "\n",
    "    print(\"Predictions:\")\n",
    "    for (x, pred) in zip(X_test.flatten(), y_pred):\n",
    "        print(f\"X = {x:4.1f} → ŷ = {pred:.3f}\")\n",
    "\n",
    "predict()"
   ]
  },
  {
   "cell_type": "code",
   "execution_count": 5,
   "id": "02cd755f",
   "metadata": {},
   "outputs": [
    {
     "name": "stdout",
     "output_type": "stream",
     "text": [
      "Sum of Squared Residuals: 9893.7355\n",
      "Total Sum of Squares: 13663.2696\n",
      "Explained Sum of Squares: 3778.4646\n",
      "\n",
      "Mean Squared Error: 7.0569\n",
      "Root Mean Squared Error: 2.6565\n",
      "Mean Squared Error 2 df: 7.0771\n",
      "Root Mean Squared Error 2 df: 2.6603\n",
      "\n",
      "R² (method 1): 0.2759\n",
      "R² (method 2): 0.2765\n"
     ]
    }
   ],
   "source": [
    "def gradient_stats():\n",
    "    predictions = gradient_model.predict(X.values.reshape(-1, len(gradient_model.coefficients)))\n",
    "    residuals = (y-predictions)\n",
    "    degrees_freedom = len(residuals) - (len(gradient_model.coefficients) + 1)\n",
    "\n",
    "    SSR = np.sum(residuals**2)                           \n",
    "    TSS = np.sum((y - np.mean(y))**2)                   \n",
    "    ESS = np.sum((predictions - np.mean(y))**2)  \n",
    "\n",
    "    r_squared_method1 = 1 - (SSR / TSS)\n",
    "    r_squared_method2 = ESS / TSS\n",
    "\n",
    "    MSE = SSR / len(residuals)\n",
    "    RMSE = np.sqrt(MSE)\n",
    "\n",
    "    MSE_DF = SSR / degrees_freedom\n",
    "    RMSE_DF = np.sqrt(MSE_DF)\n",
    "\n",
    "    print(f\"Sum of Squared Residuals: {SSR:.4f}\")\n",
    "    print(f\"Total Sum of Squares: {TSS:.4f}\")\n",
    "    print(f\"Explained Sum of Squares: {ESS:.4f}\\n\")\n",
    "\n",
    "    print(f\"Mean Squared Error: {MSE:.4f}\")\n",
    "    print(f\"Root Mean Squared Error: {RMSE:.4f}\")\n",
    "\n",
    "    print(f\"Mean Squared Error 2 df: {MSE_DF:.4f}\")\n",
    "    print(f\"Root Mean Squared Error 2 df: {RMSE_DF:.4f}\\n\")\n",
    "\n",
    "    print(f\"R² (method 1): {r_squared_method1:.4f}\")\n",
    "    print(f\"R² (method 2): {r_squared_method2:.4f}\")\n",
    "\n",
    "gradient_stats()"
   ]
  }
 ],
 "metadata": {
  "kernelspec": {
   "display_name": ".venv",
   "language": "python",
   "name": "python3"
  },
  "language_info": {
   "codemirror_mode": {
    "name": "ipython",
    "version": 3
   },
   "file_extension": ".py",
   "mimetype": "text/x-python",
   "name": "python",
   "nbconvert_exporter": "python",
   "pygments_lexer": "ipython3",
   "version": "3.13.7"
  }
 },
 "nbformat": 4,
 "nbformat_minor": 5
}
