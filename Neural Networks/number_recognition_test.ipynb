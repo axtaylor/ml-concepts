{
 "cells": [
  {
   "cell_type": "code",
   "execution_count": 1,
   "id": "c15d94ad",
   "metadata": {},
   "outputs": [],
   "source": [
    "import numpy as np\n",
    "import pandas as pd\n",
    "import matplotlib.pyplot as plt\n",
    "from number_recognition_network import *"
   ]
  },
  {
   "cell_type": "code",
   "execution_count": 2,
   "id": "2a36a2a7",
   "metadata": {},
   "outputs": [
    {
     "name": "stdout",
     "output_type": "stream",
     "text": [
      "Images: 42000 \n",
      "Pixels: 784\n"
     ]
    }
   ],
   "source": [
    "df_pd = pd.read_csv('train.csv')\n",
    "df = np.array(df_pd)\n",
    "m, n = df.shape\n",
    "\n",
    "print(\"Images:\", m, \"\\nPixels:\", n-1)"
   ]
  },
  {
   "cell_type": "code",
   "execution_count": 3,
   "id": "9c97eb9e",
   "metadata": {},
   "outputs": [
    {
     "name": "stdout",
     "output_type": "stream",
     "text": [
      "(784, 1000) (1000,)\n"
     ]
    }
   ],
   "source": [
    "# Each column is an entry, rows are features.\n",
    "\n",
    "test_set = df[0:1000].T\n",
    "X_test, y_test = test_set[1:n]/255, test_set[0]\n",
    "\n",
    "print(X_test.shape, y_test.shape)"
   ]
  },
  {
   "cell_type": "code",
   "execution_count": 4,
   "id": "cdf9f7b5",
   "metadata": {},
   "outputs": [
    {
     "name": "stdout",
     "output_type": "stream",
     "text": [
      "(784, 41000) (41000,)\n"
     ]
    }
   ],
   "source": [
    "# Each column is an entry, rows are features.\n",
    "\n",
    "training_set = df[1000:m].T\n",
    "X_train, y_train = training_set[1:n]/255, training_set[0]\n",
    "\n",
    "print(X_train.shape, y_train.shape)"
   ]
  },
  {
   "cell_type": "code",
   "execution_count": 5,
   "id": "e6bfd6ee",
   "metadata": {},
   "outputs": [
    {
     "name": "stdout",
     "output_type": "stream",
     "text": [
      "Eample No:    16620/41000\n",
      "Known Label:  0\n"
     ]
    },
    {
     "data": {
      "image/png": "[encoded data removed]",
      "text/plain": [
       "<Figure size 640x480 with 1 Axes>"
      ]
     },
     "metadata": {},
     "output_type": "display_data"
    }
   ],
   "source": [
    "'''Data visualizer'''\n",
    "\n",
    "index = np.random.randint(0, X_train.shape[1])\n",
    "image = X_train[:, index, None]\n",
    "label = y_train[index]\n",
    "\n",
    "print(\"Eample No:   \", f\"{index}/{y_train.size}\")\n",
    "print(\"Known Label: \", label)\n",
    "\n",
    "plt.imshow(image.reshape((28, 28)), interpolation='nearest')\n",
    "plt.gray()\n",
    "plt.show()"
   ]
  },
  {
   "cell_type": "code",
   "execution_count": 6,
   "id": "5c8ec6b6",
   "metadata": {},
   "outputs": [
    {
     "name": "stdout",
     "output_type": "stream",
     "text": [
      "Iteration    0 | Loss: 2.5137 | Train Score: 0.0600\n",
      "\n",
      "Iteration   10 | Loss: 1.9212 | Train Score: 0.4006\n",
      "\n",
      "Iteration   20 | Loss: 1.4484 | Train Score: 0.6405\n",
      "\n",
      "Iteration   30 | Loss: 1.1219 | Train Score: 0.7276\n",
      "\n",
      "Iteration   40 | Loss: 0.9253 | Train Score: 0.7678\n",
      "\n",
      "Iteration   50 | Loss: 0.8023 | Train Score: 0.7927\n",
      "\n",
      "Iteration   60 | Loss: 0.7186 | Train Score: 0.8126\n",
      "\n",
      "Iteration   70 | Loss: 0.6575 | Train Score: 0.8281\n",
      "\n",
      "Iteration   80 | Loss: 0.6106 | Train Score: 0.8399\n",
      "\n",
      "Iteration   90 | Loss: 0.5732 | Train Score: 0.8483\n",
      "\n",
      "Iteration  100 | Loss: 0.5427 | Train Score: 0.8553\n",
      "\n",
      "Iteration  110 | Loss: 0.5173 | Train Score: 0.8615\n",
      "\n",
      "Iteration  120 | Loss: 0.4958 | Train Score: 0.8666\n",
      "\n",
      "Iteration  130 | Loss: 0.4773 | Train Score: 0.8711\n",
      "\n",
      "Iteration  140 | Loss: 0.4613 | Train Score: 0.8752\n",
      "\n",
      "Iteration  150 | Loss: 0.4473 | Train Score: 0.8786\n",
      "\n",
      "Iteration  160 | Loss: 0.4349 | Train Score: 0.8819\n",
      "\n",
      "Iteration  170 | Loss: 0.4239 | Train Score: 0.8846\n",
      "\n",
      "Iteration  180 | Loss: 0.4141 | Train Score: 0.8870\n",
      "\n",
      "Iteration  190 | Loss: 0.4052 | Train Score: 0.8894\n",
      "\n",
      "Iteration  200 | Loss: 0.3972 | Train Score: 0.8915\n",
      "\n"
     ]
    }
   ],
   "source": [
    "'''Train the network'''\n",
    "\n",
    "weight_layer_1, bias_layer_1, weight_layer_2, bias_layer_2, training_log = gradient_descent(X_train, y_train, n_hidden=20, lr=0.1, n_iters=201)"
   ]
  },
  {
   "cell_type": "code",
   "execution_count": 7,
   "id": "db72bba3",
   "metadata": {},
   "outputs": [
    {
     "data": {
      "text/html": [
       "<div>\n",
       "<style scoped>\n",
       "    .dataframe tbody tr th:only-of-type {\n",
       "        vertical-align: middle;\n",
       "    }\n",
       "\n",
       "    .dataframe tbody tr th {\n",
       "        vertical-align: top;\n",
       "    }\n",
       "\n",
       "    .dataframe thead th {\n",
       "        text-align: right;\n",
       "    }\n",
       "</style>\n",
       "<table border=\"1\" class=\"dataframe\">\n",
       "  <thead>\n",
       "    <tr style=\"text-align: right;\">\n",
       "      <th></th>\n",
       "      <th>train_loss</th>\n",
       "      <th>train_acc</th>\n",
       "    </tr>\n",
       "  </thead>\n",
       "  <tbody>\n",
       "    <tr>\n",
       "      <th>0</th>\n",
       "      <td>2.513684</td>\n",
       "      <td>0.059976</td>\n",
       "    </tr>\n",
       "    <tr>\n",
       "      <th>1</th>\n",
       "      <td>1.921207</td>\n",
       "      <td>0.400585</td>\n",
       "    </tr>\n",
       "    <tr>\n",
       "      <th>2</th>\n",
       "      <td>1.448408</td>\n",
       "      <td>0.640463</td>\n",
       "    </tr>\n",
       "    <tr>\n",
       "      <th>3</th>\n",
       "      <td>1.121881</td>\n",
       "      <td>0.727634</td>\n",
       "    </tr>\n",
       "    <tr>\n",
       "      <th>4</th>\n",
       "      <td>0.925266</td>\n",
       "      <td>0.767829</td>\n",
       "    </tr>\n",
       "    <tr>\n",
       "      <th>5</th>\n",
       "      <td>0.802313</td>\n",
       "      <td>0.792683</td>\n",
       "    </tr>\n",
       "    <tr>\n",
       "      <th>6</th>\n",
       "      <td>0.718640</td>\n",
       "      <td>0.812610</td>\n",
       "    </tr>\n",
       "    <tr>\n",
       "      <th>7</th>\n",
       "      <td>0.657504</td>\n",
       "      <td>0.828146</td>\n",
       "    </tr>\n",
       "    <tr>\n",
       "      <th>8</th>\n",
       "      <td>0.610582</td>\n",
       "      <td>0.839902</td>\n",
       "    </tr>\n",
       "    <tr>\n",
       "      <th>9</th>\n",
       "      <td>0.573247</td>\n",
       "      <td>0.848341</td>\n",
       "    </tr>\n",
       "    <tr>\n",
       "      <th>10</th>\n",
       "      <td>0.542743</td>\n",
       "      <td>0.855317</td>\n",
       "    </tr>\n",
       "    <tr>\n",
       "      <th>11</th>\n",
       "      <td>0.517328</td>\n",
       "      <td>0.861488</td>\n",
       "    </tr>\n",
       "    <tr>\n",
       "      <th>12</th>\n",
       "      <td>0.495810</td>\n",
       "      <td>0.866634</td>\n",
       "    </tr>\n",
       "    <tr>\n",
       "      <th>13</th>\n",
       "      <td>0.477346</td>\n",
       "      <td>0.871146</td>\n",
       "    </tr>\n",
       "    <tr>\n",
       "      <th>14</th>\n",
       "      <td>0.461329</td>\n",
       "      <td>0.875171</td>\n",
       "    </tr>\n",
       "    <tr>\n",
       "      <th>15</th>\n",
       "      <td>0.447309</td>\n",
       "      <td>0.878610</td>\n",
       "    </tr>\n",
       "    <tr>\n",
       "      <th>16</th>\n",
       "      <td>0.434927</td>\n",
       "      <td>0.881927</td>\n",
       "    </tr>\n",
       "    <tr>\n",
       "      <th>17</th>\n",
       "      <td>0.423920</td>\n",
       "      <td>0.884561</td>\n",
       "    </tr>\n",
       "    <tr>\n",
       "      <th>18</th>\n",
       "      <td>0.414065</td>\n",
       "      <td>0.887024</td>\n",
       "    </tr>\n",
       "    <tr>\n",
       "      <th>19</th>\n",
       "      <td>0.405194</td>\n",
       "      <td>0.889390</td>\n",
       "    </tr>\n",
       "    <tr>\n",
       "      <th>20</th>\n",
       "      <td>0.397171</td>\n",
       "      <td>0.891463</td>\n",
       "    </tr>\n",
       "  </tbody>\n",
       "</table>\n",
       "</div>"
      ],
      "text/plain": [
       "    train_loss  train_acc\n",
       "0     2.513684   0.059976\n",
       "1     1.921207   0.400585\n",
       "2     1.448408   0.640463\n",
       "3     1.121881   0.727634\n",
       "4     0.925266   0.767829\n",
       "5     0.802313   0.792683\n",
       "6     0.718640   0.812610\n",
       "7     0.657504   0.828146\n",
       "8     0.610582   0.839902\n",
       "9     0.573247   0.848341\n",
       "10    0.542743   0.855317\n",
       "11    0.517328   0.861488\n",
       "12    0.495810   0.866634\n",
       "13    0.477346   0.871146\n",
       "14    0.461329   0.875171\n",
       "15    0.447309   0.878610\n",
       "16    0.434927   0.881927\n",
       "17    0.423920   0.884561\n",
       "18    0.414065   0.887024\n",
       "19    0.405194   0.889390\n",
       "20    0.397171   0.891463"
      ]
     },
     "execution_count": 7,
     "metadata": {},
     "output_type": "execute_result"
    }
   ],
   "source": [
    "pd.DataFrame(training_log)"
   ]
  },
  {
   "cell_type": "code",
   "execution_count": 8,
   "id": "038adf23",
   "metadata": {},
   "outputs": [
    {
     "data": {
      "text/plain": [
       "np.float64(0.8916585365853659)"
      ]
     },
     "execution_count": 8,
     "metadata": {},
     "output_type": "execute_result"
    }
   ],
   "source": [
    "'''Training Score'''\n",
    "\n",
    "_, _, _, A2 = forward_prop(weight_layer_1, bias_layer_1, weight_layer_2, bias_layer_2, X_train)\n",
    "y_prediction = predict(A2)\n",
    "score(y_prediction, y_train)"
   ]
  },
  {
   "cell_type": "code",
   "execution_count": 9,
   "id": "b0936056",
   "metadata": {},
   "outputs": [
    {
     "data": {
      "text/plain": [
       "np.float64(0.895)"
      ]
     },
     "execution_count": 9,
     "metadata": {},
     "output_type": "execute_result"
    }
   ],
   "source": [
    "'''Test score'''\n",
    "\n",
    "_, _, _, A2 = forward_prop(weight_layer_1, bias_layer_1, weight_layer_2, bias_layer_2, X_test)\n",
    "y_prediction = predict(A2)\n",
    "score(y_prediction, y_test)"
   ]
  },
  {
   "cell_type": "code",
   "execution_count": 10,
   "id": "9260d136",
   "metadata": {},
   "outputs": [
    {
     "name": "stdout",
     "output_type": "stream",
     "text": [
      "Eample No:         23164/41000\n",
      "Known Label:       8\n",
      "Model Prediction:  8\n",
      "Prediction:        True\n",
      "Confidence:        High: 99.61%\n",
      "\n",
      "Network Reasoning\n",
      "8    0.996055\n",
      "2    0.001222\n",
      "9    0.000962\n",
      "5    0.000502\n",
      "6    0.000450\n",
      "3    0.000261\n",
      "7    0.000191\n",
      "4    0.000129\n",
      "0    0.000121\n",
      "1    0.000107\n"
     ]
    },
    {
     "data": {
      "image/png": "[encoded data removed]",
      "text/plain": [
       "<Figure size 640x480 with 1 Axes>"
      ]
     },
     "metadata": {},
     "output_type": "display_data"
    }
   ],
   "source": [
    "'''Predicting random number from the training set'''\n",
    "\n",
    "index = np.random.randint(0, X_train.shape[1])\n",
    "image = X_train[:, index, None]\n",
    "label = y_train[index]\n",
    "\n",
    "_, _, _, A2 = forward_prop(weight_layer_1, bias_layer_1, weight_layer_2, bias_layer_2, image)\n",
    "prediction = predict(A2)\n",
    "confidence = pd.Series(A2.flatten())\n",
    "\n",
    "levels = {\n",
    "    0.9: \"High\",\n",
    "    0.7: \"Moderate\",\n",
    "    0.5: \"Low\",\n",
    "    0.0: \"Not Significant\",\n",
    "}\n",
    "conf_level = [levels[threshold] for threshold in levels.keys() if confidence.max() >= threshold]\n",
    "\n",
    "print(\"Eample No:        \", f\"{index}/{y_train.size}\")\n",
    "print(\"Known Label:      \", label)\n",
    "print(\"Model Prediction: \", prediction.item())\n",
    "print(\"Prediction:       \", prediction.item()==label)\n",
    "print(f\"Confidence:        {conf_level[0]}: {confidence.max():.2%}\")\n",
    "print(f\"\\nNetwork Reasoning\\n{confidence.sort_values(ascending=False).to_string()}\")\n",
    "plt.title(\"Training Data\")\n",
    "plt.gray()\n",
    "plt.imshow(image.reshape((28, 28)) * 255, interpolation='nearest')\n",
    "plt.show()"
   ]
  },
  {
   "cell_type": "code",
   "execution_count": 11,
   "id": "3cd829e2",
   "metadata": {},
   "outputs": [
    {
     "name": "stdout",
     "output_type": "stream",
     "text": [
      "Eample No:         559/1000\n",
      "Known Label:       2\n",
      "Model Prediction:  8\n",
      "Prediction:        False\n",
      "Confidence:        Moderate: 85.24%\n",
      "\n",
      "Network Reasoning\n",
      "8    85.24\n",
      "2     8.12\n",
      "5     2.49\n",
      "0     2.17\n",
      "3     1.83\n",
      "7     0.10\n",
      "1     0.02\n",
      "6     0.01\n",
      "9     0.01\n",
      "4     0.00\n"
     ]
    },
    {
     "data": {
      "image/png": "[encoded data removed]",
      "text/plain": [
       "<Figure size 640x480 with 1 Axes>"
      ]
     },
     "metadata": {},
     "output_type": "display_data"
    }
   ],
   "source": [
    "'''Predicting random number from the test set'''\n",
    "\n",
    "index = np.random.randint(0, X_test.shape[1])\n",
    "image = X_test[:, index, None]\n",
    "label = y_test[index]\n",
    "\n",
    "_, _, _, A2 = forward_prop(weight_layer_1, bias_layer_1, weight_layer_2, bias_layer_2, image)\n",
    "prediction = predict(A2)\n",
    "confidence = pd.Series(A2.flatten())\n",
    "\n",
    "\n",
    "levels = {\n",
    "    0.9: \"High\",\n",
    "    0.7: \"Moderate\",\n",
    "    0.5: \"Low\",\n",
    "    0.0: \"Not Significant\",\n",
    "}\n",
    "conf_level = [levels[threshold] for threshold in levels.keys() if confidence.max() >= threshold]\n",
    "\n",
    "print(\"Eample No:        \", f\"{index}/{y_test.size}\")\n",
    "print(\"Known Label:      \", label)\n",
    "print(\"Model Prediction: \", prediction.item())\n",
    "print(\"Prediction:       \", prediction.item()==label)\n",
    "print(f\"Confidence:        {conf_level[0]}: {confidence.max():.2%}\")\n",
    "print(f\"\\nNetwork Reasoning\\n{round(confidence*100,2).sort_values(ascending=False).to_string()}\")\n",
    "plt.title(\"Training Data\")\n",
    "plt.gray()\n",
    "plt.imshow(image.reshape((28, 28)) * 255, interpolation='nearest')\n",
    "plt.show()"
   ]
  }
 ],
 "metadata": {
  "kernelspec": {
   "display_name": ".venv",
   "language": "python",
   "name": "python3"
  },
  "language_info": {
   "codemirror_mode": {
    "name": "ipython",
    "version": 3
   },
   "file_extension": ".py",
   "mimetype": "text/x-python",
   "name": "python",
   "nbconvert_exporter": "python",
   "pygments_lexer": "ipython3",
   "version": "3.13.7"
  }
 },
 "nbformat": 4,
 "nbformat_minor": 5
}
